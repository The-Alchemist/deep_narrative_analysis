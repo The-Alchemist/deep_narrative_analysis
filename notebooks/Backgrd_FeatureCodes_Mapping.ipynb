{
 "cells": [
  {
   "cell_type": "markdown",
   "metadata": {},
   "source": [
    "# Create Dictionary Mapping Unused GeoName Feature Codes"
   ]
  },
  {
   "cell_type": "markdown",
   "metadata": {},
   "source": [
    "# Description\n",
    "\n",
    "This notebook creates a dictionary defining a mapping for GeoNames feature codes that are not used/defined in the DNA ontology files. The mapping defines the alternate code or location ontology class name that should be used.\n",
    "\n",
    "Note that some of the entities indicate a code/location with the addition of the text, '(plural)'. This pattern indicates that an individual of the specific class will be created + the ':plural true' triple will be added. Also note that if more than one class is listed, then the individual will be instantiated using multiple inheritance."
   ]
  },
  {
   "cell_type": "code",
   "execution_count": 1,
   "metadata": {
    "ExecuteTime": {
     "end_time": "2020-02-26T02:56:51.871608Z",
     "start_time": "2020-02-26T02:56:51.858310Z"
    }
   },
   "outputs": [],
   "source": [
    "import pickle\n",
    "\n",
    "mappingDict = {'A_PCL': 'GeopoliticalEntity',\n",
    "               'H_BAYS': 'H_BAY (plural)',\n",
    "               'H_BGHT': 'H_BAY',\n",
    "               'H_CNLA': 'S_DTCH',\n",
    "               'H_COVE': 'H_BAY',\n",
    "               'H_DTCHD': 'H_DTCH',\n",
    "               'H_DTCHI': 'H_DTCH',\n",
    "               'H_FJDS': 'H_FJD (plural)',\n",
    "               'H_LGNS': 'H_LGN (plural)',\n",
    "               'H_LKC': 'H_LK',\n",
    "               'H_LKNI': 'H_LKN, :H_LKI',\n",
    "               'H_LKS': 'H_LK (plural)',\n",
    "               'H_LKSC': 'H_LK (plural)',\n",
    "               'H_LKSI': 'H_LKI (plural)',\n",
    "               'H_LKSN': 'H_LKN (plural)',\n",
    "               'H_LKSNI': 'H_LKI, :H_LKN (plural)',\n",
    "               'H_MOOR': 'H_BOG',\n",
    "               'H_PNDNI': 'H_PNDN, :H_PNDI',\n",
    "               'H_PNDS': 'H_PND (plural)',\n",
    "               'H_PNDSI': 'H_PNDI (plural)',\n",
    "               'H_PNDSN': 'H_PNDN (plural)',\n",
    "               'H_STMS': 'H_STM (plural)',\n",
    "               'H_WADS': 'H_WAD (plural)',\n",
    "               'L_AREA': 'AreaFeature',\n",
    "               'L_RESP': 'L_RES',\n",
    "               'L_RESW': 'L_RESN',\n",
    "               'P_PPL': 'PopulatedPlace',\n",
    "               'P_PPLS': 'PopulatedPlace (plural)',\n",
    "               'R_TNLS': 'R_TNL (plural)',\n",
    "               'S_CTRF': 'S_FCL (plural)',\n",
    "               'S_DCKY': 'S_BTYD',\n",
    "               'S_ESTO': 'S_EST',\n",
    "               'S_ESTR': 'S_EST',\n",
    "               'S_ESTSG': 'S_EST',\n",
    "               'S_ESTT': 'S_EST',\n",
    "               'S_FRMS': 'S_FRM (plural)',\n",
    "               'S_FRMT': 'S_FRM',\n",
    "               'S_FYT': 'S_FY',\n",
    "               'S_GHSE': 'S_HTL',\n",
    "               'S_HERM': 'S_RLGR',\n",
    "               'S_HUTS': 'S_HUT (plural)',\n",
    "               'S_JTY': 'S_BRKW',\n",
    "               'S_PSTC': 'S_CSTM',\n",
    "               'S_PYRS': 'S_PYR (plural)',\n",
    "               'S_QUAY': 'S_PIER',\n",
    "               'S_RHSE': 'S_HLT',\n",
    "               'S_SECP': 'S_SCH',\n",
    "               'S_SPA': 'S_RSRT',\n",
    "               'S_SPLY': 'S_SLCE',\n",
    "               'S_STNB': 'S_ITTR',\n",
    "               'S_TMB': 'S_GRVE',\n",
    "               'S_TRMO': 'S_OILT',\n",
    "               'S_TWO': '',\n",
    "               'S_UNIP': 'S_SCH',\n",
    "               'S_UNIV': 'S_SCHC',\n",
    "               'S_USGE': 'S_ADMF',\n",
    "               'S_WEIR': 'S_DAM',\n",
    "               'S_WHRF': 'S_PIER',\n",
    "               'T_BCH': 'L_CST',\n",
    "               'T_BCHS': 'L_CST',\n",
    "               'T_BNCH': 'T_TRR',\n",
    "               'T_CRDR': 'R_RD',\n",
    "               'T_CRQS': 'T_CRQ (plural)',\n",
    "               'T_DLTA': 'T_FAN',\n",
    "               'T_HLLS': 'T_HLL (plural)',\n",
    "               'T_ISLET': 'T_ISL',\n",
    "               'T_ISLM': 'H_MGV',\n",
    "               'T_ISLS': 'T_ISL (plural)',\n",
    "               'T_LEV': 'S_DIKE',\n",
    "               'T_MTS': 'T_MT (plural)',\n",
    "               'T_NTKS': 'T_NTK (plural)',\n",
    "               'T_PANS': 'T_PAN (plural)',\n",
    "               'T_PKS': 'T_PK (plural)',\n",
    "               'T_PTS': 'T_PT (plural)',\n",
    "               'T_RKS': 'T_RK (plural)',\n",
    "               'T_SHOR': 'L_CST',\n",
    "               'T_VALS': 'T_VAL (plural)',\n",
    "               'V_VINS': 'V_VIN (plural)'\n",
    "              }\n",
    "\n",
    "with open('featureCodes_mappings.pickle', 'wb') as handle:\n",
    "    pickle.dump(mappingDict, handle)"
   ]
  },
  {
   "cell_type": "code",
   "execution_count": null,
   "metadata": {},
   "outputs": [],
   "source": []
  }
 ],
 "metadata": {
  "kernelspec": {
   "display_name": "Python 3",
   "language": "python",
   "name": "python3"
  },
  "language_info": {
   "codemirror_mode": {
    "name": "ipython",
    "version": 3
   },
   "file_extension": ".py",
   "mimetype": "text/x-python",
   "name": "python",
   "nbconvert_exporter": "python",
   "pygments_lexer": "ipython3",
   "version": "3.7.3"
  },
  "varInspector": {
   "cols": {
    "lenName": 16,
    "lenType": 16,
    "lenVar": 40
   },
   "kernels_config": {
    "python": {
     "delete_cmd_postfix": "",
     "delete_cmd_prefix": "del ",
     "library": "var_list.py",
     "varRefreshCmd": "print(var_dic_list())"
    },
    "r": {
     "delete_cmd_postfix": ") ",
     "delete_cmd_prefix": "rm(",
     "library": "var_list.r",
     "varRefreshCmd": "cat(var_dic_list()) "
    }
   },
   "types_to_exclude": [
    "module",
    "function",
    "builtin_function_or_method",
    "instance",
    "_Feature"
   ],
   "window_display": false
  }
 },
 "nbformat": 4,
 "nbformat_minor": 2
}
