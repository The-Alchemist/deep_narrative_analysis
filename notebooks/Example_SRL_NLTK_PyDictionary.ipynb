{
 "cells": [
  {
   "cell_type": "markdown",
   "id": "17bd74dc",
   "metadata": {},
   "source": [
    "# Exploration of spaCy with allennlp SRL, NLTK WordNet and PyDictionary"
   ]
  },
  {
   "cell_type": "code",
   "execution_count": 1,
   "id": "cc0b292c",
   "metadata": {
    "ExecuteTime": {
     "end_time": "2021-08-03T21:15:21.420107Z",
     "start_time": "2021-08-03T21:15:16.258379Z"
    },
    "tags": []
   },
   "outputs": [],
   "source": [
    "# Imports and set up\n",
    "from allennlp.predictors.predictor import Predictor\n",
    "\n",
    "import spacy\n",
    "from spacy.tokens import Doc, Span, Token\n",
    "from spacy.language import Language\n",
    "\n",
    "nlp = spacy.load('en_core_web_trf')"
   ]
  },
  {
   "cell_type": "code",
   "execution_count": 2,
   "id": "3fbe155d",
   "metadata": {
    "ExecuteTime": {
     "end_time": "2021-08-03T21:15:21.452033Z",
     "start_time": "2021-08-03T21:15:21.447166Z"
    }
   },
   "outputs": [],
   "source": [
    "@Language.factory(\"srl\", default_config={\n",
    "    \"model_path\": \"../dna/resources/structured-prediction-srl-bert.2020.12.15.tar.gz\"})\n",
    "def create_srl_component(nlp: Language, name: str, model_path: str):\n",
    "    return SRLComponent(nlp, model_path)\n",
    "\n",
    "class SRLComponent:\n",
    "    def __init__(self, nlp: Language, model_path: str):\n",
    "        if not Doc.has_extension(\"srl\"):\n",
    "            Doc.set_extension(\"srl\", default=None)\n",
    "        self.predictor = Predictor.from_path(model_path)\n",
    "\n",
    "    def __call__(self, doc: Doc):\n",
    "        predictions = self.predictor.predict(sentence=doc.text)\n",
    "        doc._.srl = predictions\n",
    "        return doc"
   ]
  },
  {
   "cell_type": "code",
   "execution_count": 4,
   "id": "458d6f71",
   "metadata": {
    "ExecuteTime": {
     "end_time": "2021-08-03T21:15:45.958748Z",
     "start_time": "2021-08-03T21:15:34.393852Z"
    }
   },
   "outputs": [
    {
     "name": "stderr",
     "output_type": "stream",
     "text": [
      "2021-08-03 17:15:36,924 - INFO - allennlp.common.plugins - Plugin allennlp_models available\n",
      "2021-08-03 17:15:36,930 - INFO - allennlp.models.archival - loading archive file ../dna/resources/structured-prediction-srl-bert.2020.12.15.tar.gz\n",
      "2021-08-03 17:15:36,930 - INFO - allennlp.models.archival - extracting archive file ../dna/resources/structured-prediction-srl-bert.2020.12.15.tar.gz to temp dir /var/folders/c_/r637mr6d7y99t490f5yw_trm0000gn/T/tmp8gij92k4\n",
      "2021-08-03 17:15:39,870 - INFO - allennlp.common.params - dataset_reader.type = srl\n",
      "2021-08-03 17:15:39,871 - INFO - allennlp.common.params - dataset_reader.max_instances = None\n",
      "2021-08-03 17:15:39,872 - INFO - allennlp.common.params - dataset_reader.manual_distributed_sharding = False\n",
      "2021-08-03 17:15:39,872 - INFO - allennlp.common.params - dataset_reader.manual_multiprocess_sharding = False\n",
      "2021-08-03 17:15:39,873 - INFO - allennlp.common.params - dataset_reader.token_indexers = None\n",
      "2021-08-03 17:15:39,874 - INFO - allennlp.common.params - dataset_reader.domain_identifier = None\n",
      "2021-08-03 17:15:39,874 - INFO - allennlp.common.params - dataset_reader.bert_model_name = bert-base-uncased\n",
      "2021-08-03 17:15:42,408 - INFO - allennlp.common.params - dataset_reader.type = srl\n",
      "2021-08-03 17:15:42,409 - INFO - allennlp.common.params - dataset_reader.max_instances = None\n",
      "2021-08-03 17:15:42,409 - INFO - allennlp.common.params - dataset_reader.manual_distributed_sharding = False\n",
      "2021-08-03 17:15:42,410 - INFO - allennlp.common.params - dataset_reader.manual_multiprocess_sharding = False\n",
      "2021-08-03 17:15:42,411 - INFO - allennlp.common.params - dataset_reader.token_indexers = None\n",
      "2021-08-03 17:15:42,412 - INFO - allennlp.common.params - dataset_reader.domain_identifier = None\n",
      "2021-08-03 17:15:42,412 - INFO - allennlp.common.params - dataset_reader.bert_model_name = bert-base-uncased\n",
      "2021-08-03 17:15:43,072 - INFO - allennlp.common.params - type = from_instances\n",
      "2021-08-03 17:15:43,073 - INFO - allennlp.data.vocabulary - Loading token dictionary from /var/folders/c_/r637mr6d7y99t490f5yw_trm0000gn/T/tmp8gij92k4/vocabulary.\n",
      "2021-08-03 17:15:43,076 - INFO - allennlp.common.params - model.type = srl_bert\n",
      "2021-08-03 17:15:43,076 - INFO - allennlp.common.params - model.regularizer = None\n",
      "2021-08-03 17:15:43,077 - INFO - allennlp.common.params - model.bert_model = bert-base-uncased\n",
      "2021-08-03 17:15:43,078 - INFO - allennlp.common.params - model.embedding_dropout = 0.1\n",
      "2021-08-03 17:15:43,078 - INFO - allennlp.common.params - model.initializer = <allennlp.nn.initializers.InitializerApplicator object at 0x160924670>\n",
      "2021-08-03 17:15:43,079 - INFO - allennlp.common.params - model.label_smoothing = None\n",
      "2021-08-03 17:15:43,079 - INFO - allennlp.common.params - model.ignore_span_metric = False\n",
      "2021-08-03 17:15:43,080 - INFO - allennlp.common.params - model.srl_eval_path = /Users/andreaw/.pyenv/versions/3.8.9/lib/python3.8/site-packages/allennlp_models/structured_prediction/tools/srl-eval.pl\n",
      "2021-08-03 17:15:44,898 - INFO - allennlp.nn.initializers - Initializing parameters\n",
      "2021-08-03 17:15:44,900 - INFO - allennlp.nn.initializers - Done initializing parameters; the following parameters are using their default initialization from their code\n",
      "2021-08-03 17:15:44,900 - INFO - allennlp.nn.initializers -    bert_model.embeddings.LayerNorm.bias\n",
      "2021-08-03 17:15:44,901 - INFO - allennlp.nn.initializers -    bert_model.embeddings.LayerNorm.weight\n",
      "2021-08-03 17:15:44,901 - INFO - allennlp.nn.initializers -    bert_model.embeddings.position_embeddings.weight\n",
      "2021-08-03 17:15:44,902 - INFO - allennlp.nn.initializers -    bert_model.embeddings.token_type_embeddings.weight\n",
      "2021-08-03 17:15:44,902 - INFO - allennlp.nn.initializers -    bert_model.embeddings.word_embeddings.weight\n",
      "2021-08-03 17:15:44,903 - INFO - allennlp.nn.initializers -    bert_model.encoder.layer.0.attention.output.LayerNorm.bias\n",
      "2021-08-03 17:15:44,904 - INFO - allennlp.nn.initializers -    bert_model.encoder.layer.0.attention.output.LayerNorm.weight\n",
      "2021-08-03 17:15:44,904 - INFO - allennlp.nn.initializers -    bert_model.encoder.layer.0.attention.output.dense.bias\n",
      "2021-08-03 17:15:44,905 - INFO - allennlp.nn.initializers -    bert_model.encoder.layer.0.attention.output.dense.weight\n",
      "2021-08-03 17:15:44,905 - INFO - allennlp.nn.initializers -    bert_model.encoder.layer.0.attention.self.key.bias\n",
      "2021-08-03 17:15:44,906 - INFO - allennlp.nn.initializers -    bert_model.encoder.layer.0.attention.self.key.weight\n",
      "2021-08-03 17:15:44,906 - INFO - allennlp.nn.initializers -    bert_model.encoder.layer.0.attention.self.query.bias\n",
      "2021-08-03 17:15:44,907 - INFO - allennlp.nn.initializers -    bert_model.encoder.layer.0.attention.self.query.weight\n",
      "2021-08-03 17:15:44,907 - INFO - allennlp.nn.initializers -    bert_model.encoder.layer.0.attention.self.value.bias\n",
      "2021-08-03 17:15:44,908 - INFO - allennlp.nn.initializers -    bert_model.encoder.layer.0.attention.self.value.weight\n",
      "2021-08-03 17:15:44,908 - INFO - allennlp.nn.initializers -    bert_model.encoder.layer.0.intermediate.dense.bias\n",
      "2021-08-03 17:15:44,909 - INFO - allennlp.nn.initializers -    bert_model.encoder.layer.0.intermediate.dense.weight\n",
      "2021-08-03 17:15:44,909 - INFO - allennlp.nn.initializers -    bert_model.encoder.layer.0.output.LayerNorm.bias\n",
      "2021-08-03 17:15:44,910 - INFO - allennlp.nn.initializers -    bert_model.encoder.layer.0.output.LayerNorm.weight\n",
      "2021-08-03 17:15:44,910 - INFO - allennlp.nn.initializers -    bert_model.encoder.layer.0.output.dense.bias\n",
      "2021-08-03 17:15:44,911 - INFO - allennlp.nn.initializers -    bert_model.encoder.layer.0.output.dense.weight\n",
      "2021-08-03 17:15:44,912 - INFO - allennlp.nn.initializers -    bert_model.encoder.layer.1.attention.output.LayerNorm.bias\n",
      "2021-08-03 17:15:44,912 - INFO - allennlp.nn.initializers -    bert_model.encoder.layer.1.attention.output.LayerNorm.weight\n",
      "2021-08-03 17:15:44,913 - INFO - allennlp.nn.initializers -    bert_model.encoder.layer.1.attention.output.dense.bias\n",
      "2021-08-03 17:15:44,913 - INFO - allennlp.nn.initializers -    bert_model.encoder.layer.1.attention.output.dense.weight\n",
      "2021-08-03 17:15:44,914 - INFO - allennlp.nn.initializers -    bert_model.encoder.layer.1.attention.self.key.bias\n",
      "2021-08-03 17:15:44,914 - INFO - allennlp.nn.initializers -    bert_model.encoder.layer.1.attention.self.key.weight\n",
      "2021-08-03 17:15:44,915 - INFO - allennlp.nn.initializers -    bert_model.encoder.layer.1.attention.self.query.bias\n",
      "2021-08-03 17:15:44,915 - INFO - allennlp.nn.initializers -    bert_model.encoder.layer.1.attention.self.query.weight\n",
      "2021-08-03 17:15:44,916 - INFO - allennlp.nn.initializers -    bert_model.encoder.layer.1.attention.self.value.bias\n",
      "2021-08-03 17:15:44,916 - INFO - allennlp.nn.initializers -    bert_model.encoder.layer.1.attention.self.value.weight\n",
      "2021-08-03 17:15:44,916 - INFO - allennlp.nn.initializers -    bert_model.encoder.layer.1.intermediate.dense.bias\n",
      "2021-08-03 17:15:44,917 - INFO - allennlp.nn.initializers -    bert_model.encoder.layer.1.intermediate.dense.weight\n",
      "2021-08-03 17:15:44,917 - INFO - allennlp.nn.initializers -    bert_model.encoder.layer.1.output.LayerNorm.bias\n",
      "2021-08-03 17:15:44,918 - INFO - allennlp.nn.initializers -    bert_model.encoder.layer.1.output.LayerNorm.weight\n",
      "2021-08-03 17:15:44,918 - INFO - allennlp.nn.initializers -    bert_model.encoder.layer.1.output.dense.bias\n",
      "2021-08-03 17:15:44,919 - INFO - allennlp.nn.initializers -    bert_model.encoder.layer.1.output.dense.weight\n",
      "2021-08-03 17:15:44,919 - INFO - allennlp.nn.initializers -    bert_model.encoder.layer.10.attention.output.LayerNorm.bias\n",
      "2021-08-03 17:15:44,920 - INFO - allennlp.nn.initializers -    bert_model.encoder.layer.10.attention.output.LayerNorm.weight\n",
      "2021-08-03 17:15:44,921 - INFO - allennlp.nn.initializers -    bert_model.encoder.layer.10.attention.output.dense.bias\n",
      "2021-08-03 17:15:44,921 - INFO - allennlp.nn.initializers -    bert_model.encoder.layer.10.attention.output.dense.weight\n",
      "2021-08-03 17:15:44,922 - INFO - allennlp.nn.initializers -    bert_model.encoder.layer.10.attention.self.key.bias\n",
      "2021-08-03 17:15:44,922 - INFO - allennlp.nn.initializers -    bert_model.encoder.layer.10.attention.self.key.weight\n"
     ]
    },
    {
     "name": "stderr",
     "output_type": "stream",
     "text": [
      "2021-08-03 17:15:44,923 - INFO - allennlp.nn.initializers -    bert_model.encoder.layer.10.attention.self.query.bias\n",
      "2021-08-03 17:15:44,923 - INFO - allennlp.nn.initializers -    bert_model.encoder.layer.10.attention.self.query.weight\n",
      "2021-08-03 17:15:44,924 - INFO - allennlp.nn.initializers -    bert_model.encoder.layer.10.attention.self.value.bias\n",
      "2021-08-03 17:15:44,924 - INFO - allennlp.nn.initializers -    bert_model.encoder.layer.10.attention.self.value.weight\n",
      "2021-08-03 17:15:44,925 - INFO - allennlp.nn.initializers -    bert_model.encoder.layer.10.intermediate.dense.bias\n",
      "2021-08-03 17:15:44,925 - INFO - allennlp.nn.initializers -    bert_model.encoder.layer.10.intermediate.dense.weight\n",
      "2021-08-03 17:15:44,926 - INFO - allennlp.nn.initializers -    bert_model.encoder.layer.10.output.LayerNorm.bias\n",
      "2021-08-03 17:15:44,926 - INFO - allennlp.nn.initializers -    bert_model.encoder.layer.10.output.LayerNorm.weight\n",
      "2021-08-03 17:15:44,927 - INFO - allennlp.nn.initializers -    bert_model.encoder.layer.10.output.dense.bias\n",
      "2021-08-03 17:15:44,927 - INFO - allennlp.nn.initializers -    bert_model.encoder.layer.10.output.dense.weight\n",
      "2021-08-03 17:15:44,928 - INFO - allennlp.nn.initializers -    bert_model.encoder.layer.11.attention.output.LayerNorm.bias\n",
      "2021-08-03 17:15:44,929 - INFO - allennlp.nn.initializers -    bert_model.encoder.layer.11.attention.output.LayerNorm.weight\n",
      "2021-08-03 17:15:44,929 - INFO - allennlp.nn.initializers -    bert_model.encoder.layer.11.attention.output.dense.bias\n",
      "2021-08-03 17:15:44,930 - INFO - allennlp.nn.initializers -    bert_model.encoder.layer.11.attention.output.dense.weight\n",
      "2021-08-03 17:15:44,930 - INFO - allennlp.nn.initializers -    bert_model.encoder.layer.11.attention.self.key.bias\n",
      "2021-08-03 17:15:44,931 - INFO - allennlp.nn.initializers -    bert_model.encoder.layer.11.attention.self.key.weight\n",
      "2021-08-03 17:15:44,931 - INFO - allennlp.nn.initializers -    bert_model.encoder.layer.11.attention.self.query.bias\n",
      "2021-08-03 17:15:44,932 - INFO - allennlp.nn.initializers -    bert_model.encoder.layer.11.attention.self.query.weight\n",
      "2021-08-03 17:15:44,932 - INFO - allennlp.nn.initializers -    bert_model.encoder.layer.11.attention.self.value.bias\n",
      "2021-08-03 17:15:44,933 - INFO - allennlp.nn.initializers -    bert_model.encoder.layer.11.attention.self.value.weight\n",
      "2021-08-03 17:15:44,933 - INFO - allennlp.nn.initializers -    bert_model.encoder.layer.11.intermediate.dense.bias\n",
      "2021-08-03 17:15:44,934 - INFO - allennlp.nn.initializers -    bert_model.encoder.layer.11.intermediate.dense.weight\n",
      "2021-08-03 17:15:44,934 - INFO - allennlp.nn.initializers -    bert_model.encoder.layer.11.output.LayerNorm.bias\n",
      "2021-08-03 17:15:44,935 - INFO - allennlp.nn.initializers -    bert_model.encoder.layer.11.output.LayerNorm.weight\n",
      "2021-08-03 17:15:44,935 - INFO - allennlp.nn.initializers -    bert_model.encoder.layer.11.output.dense.bias\n",
      "2021-08-03 17:15:44,936 - INFO - allennlp.nn.initializers -    bert_model.encoder.layer.11.output.dense.weight\n",
      "2021-08-03 17:15:44,936 - INFO - allennlp.nn.initializers -    bert_model.encoder.layer.2.attention.output.LayerNorm.bias\n",
      "2021-08-03 17:15:44,937 - INFO - allennlp.nn.initializers -    bert_model.encoder.layer.2.attention.output.LayerNorm.weight\n",
      "2021-08-03 17:15:44,938 - INFO - allennlp.nn.initializers -    bert_model.encoder.layer.2.attention.output.dense.bias\n",
      "2021-08-03 17:15:44,938 - INFO - allennlp.nn.initializers -    bert_model.encoder.layer.2.attention.output.dense.weight\n",
      "2021-08-03 17:15:44,939 - INFO - allennlp.nn.initializers -    bert_model.encoder.layer.2.attention.self.key.bias\n",
      "2021-08-03 17:15:44,939 - INFO - allennlp.nn.initializers -    bert_model.encoder.layer.2.attention.self.key.weight\n",
      "2021-08-03 17:15:44,940 - INFO - allennlp.nn.initializers -    bert_model.encoder.layer.2.attention.self.query.bias\n",
      "2021-08-03 17:15:44,940 - INFO - allennlp.nn.initializers -    bert_model.encoder.layer.2.attention.self.query.weight\n",
      "2021-08-03 17:15:44,941 - INFO - allennlp.nn.initializers -    bert_model.encoder.layer.2.attention.self.value.bias\n",
      "2021-08-03 17:15:44,941 - INFO - allennlp.nn.initializers -    bert_model.encoder.layer.2.attention.self.value.weight\n",
      "2021-08-03 17:15:44,942 - INFO - allennlp.nn.initializers -    bert_model.encoder.layer.2.intermediate.dense.bias\n",
      "2021-08-03 17:15:44,942 - INFO - allennlp.nn.initializers -    bert_model.encoder.layer.2.intermediate.dense.weight\n",
      "2021-08-03 17:15:44,943 - INFO - allennlp.nn.initializers -    bert_model.encoder.layer.2.output.LayerNorm.bias\n",
      "2021-08-03 17:15:44,944 - INFO - allennlp.nn.initializers -    bert_model.encoder.layer.2.output.LayerNorm.weight\n",
      "2021-08-03 17:15:44,944 - INFO - allennlp.nn.initializers -    bert_model.encoder.layer.2.output.dense.bias\n",
      "2021-08-03 17:15:44,945 - INFO - allennlp.nn.initializers -    bert_model.encoder.layer.2.output.dense.weight\n",
      "2021-08-03 17:15:44,945 - INFO - allennlp.nn.initializers -    bert_model.encoder.layer.3.attention.output.LayerNorm.bias\n",
      "2021-08-03 17:15:44,945 - INFO - allennlp.nn.initializers -    bert_model.encoder.layer.3.attention.output.LayerNorm.weight\n",
      "2021-08-03 17:15:44,946 - INFO - allennlp.nn.initializers -    bert_model.encoder.layer.3.attention.output.dense.bias\n",
      "2021-08-03 17:15:44,947 - INFO - allennlp.nn.initializers -    bert_model.encoder.layer.3.attention.output.dense.weight\n",
      "2021-08-03 17:15:44,947 - INFO - allennlp.nn.initializers -    bert_model.encoder.layer.3.attention.self.key.bias\n",
      "2021-08-03 17:15:44,948 - INFO - allennlp.nn.initializers -    bert_model.encoder.layer.3.attention.self.key.weight\n",
      "2021-08-03 17:15:44,948 - INFO - allennlp.nn.initializers -    bert_model.encoder.layer.3.attention.self.query.bias\n",
      "2021-08-03 17:15:44,949 - INFO - allennlp.nn.initializers -    bert_model.encoder.layer.3.attention.self.query.weight\n",
      "2021-08-03 17:15:44,950 - INFO - allennlp.nn.initializers -    bert_model.encoder.layer.3.attention.self.value.bias\n",
      "2021-08-03 17:15:44,950 - INFO - allennlp.nn.initializers -    bert_model.encoder.layer.3.attention.self.value.weight\n",
      "2021-08-03 17:15:44,951 - INFO - allennlp.nn.initializers -    bert_model.encoder.layer.3.intermediate.dense.bias\n",
      "2021-08-03 17:15:44,951 - INFO - allennlp.nn.initializers -    bert_model.encoder.layer.3.intermediate.dense.weight\n",
      "2021-08-03 17:15:44,951 - INFO - allennlp.nn.initializers -    bert_model.encoder.layer.3.output.LayerNorm.bias\n",
      "2021-08-03 17:15:44,952 - INFO - allennlp.nn.initializers -    bert_model.encoder.layer.3.output.LayerNorm.weight\n",
      "2021-08-03 17:15:44,952 - INFO - allennlp.nn.initializers -    bert_model.encoder.layer.3.output.dense.bias\n",
      "2021-08-03 17:15:44,952 - INFO - allennlp.nn.initializers -    bert_model.encoder.layer.3.output.dense.weight\n",
      "2021-08-03 17:15:44,953 - INFO - allennlp.nn.initializers -    bert_model.encoder.layer.4.attention.output.LayerNorm.bias\n",
      "2021-08-03 17:15:44,953 - INFO - allennlp.nn.initializers -    bert_model.encoder.layer.4.attention.output.LayerNorm.weight\n",
      "2021-08-03 17:15:44,954 - INFO - allennlp.nn.initializers -    bert_model.encoder.layer.4.attention.output.dense.bias\n",
      "2021-08-03 17:15:44,954 - INFO - allennlp.nn.initializers -    bert_model.encoder.layer.4.attention.output.dense.weight\n",
      "2021-08-03 17:15:44,955 - INFO - allennlp.nn.initializers -    bert_model.encoder.layer.4.attention.self.key.bias\n",
      "2021-08-03 17:15:44,955 - INFO - allennlp.nn.initializers -    bert_model.encoder.layer.4.attention.self.key.weight\n",
      "2021-08-03 17:15:44,956 - INFO - allennlp.nn.initializers -    bert_model.encoder.layer.4.attention.self.query.bias\n",
      "2021-08-03 17:15:44,956 - INFO - allennlp.nn.initializers -    bert_model.encoder.layer.4.attention.self.query.weight\n",
      "2021-08-03 17:15:44,956 - INFO - allennlp.nn.initializers -    bert_model.encoder.layer.4.attention.self.value.bias\n",
      "2021-08-03 17:15:44,957 - INFO - allennlp.nn.initializers -    bert_model.encoder.layer.4.attention.self.value.weight\n",
      "2021-08-03 17:15:44,957 - INFO - allennlp.nn.initializers -    bert_model.encoder.layer.4.intermediate.dense.bias\n",
      "2021-08-03 17:15:44,958 - INFO - allennlp.nn.initializers -    bert_model.encoder.layer.4.intermediate.dense.weight\n",
      "2021-08-03 17:15:44,958 - INFO - allennlp.nn.initializers -    bert_model.encoder.layer.4.output.LayerNorm.bias\n"
     ]
    },
    {
     "name": "stderr",
     "output_type": "stream",
     "text": [
      "2021-08-03 17:15:44,959 - INFO - allennlp.nn.initializers -    bert_model.encoder.layer.4.output.LayerNorm.weight\n",
      "2021-08-03 17:15:44,959 - INFO - allennlp.nn.initializers -    bert_model.encoder.layer.4.output.dense.bias\n",
      "2021-08-03 17:15:44,960 - INFO - allennlp.nn.initializers -    bert_model.encoder.layer.4.output.dense.weight\n",
      "2021-08-03 17:15:44,960 - INFO - allennlp.nn.initializers -    bert_model.encoder.layer.5.attention.output.LayerNorm.bias\n",
      "2021-08-03 17:15:44,961 - INFO - allennlp.nn.initializers -    bert_model.encoder.layer.5.attention.output.LayerNorm.weight\n",
      "2021-08-03 17:15:44,961 - INFO - allennlp.nn.initializers -    bert_model.encoder.layer.5.attention.output.dense.bias\n",
      "2021-08-03 17:15:44,961 - INFO - allennlp.nn.initializers -    bert_model.encoder.layer.5.attention.output.dense.weight\n",
      "2021-08-03 17:15:44,962 - INFO - allennlp.nn.initializers -    bert_model.encoder.layer.5.attention.self.key.bias\n",
      "2021-08-03 17:15:44,962 - INFO - allennlp.nn.initializers -    bert_model.encoder.layer.5.attention.self.key.weight\n",
      "2021-08-03 17:15:44,963 - INFO - allennlp.nn.initializers -    bert_model.encoder.layer.5.attention.self.query.bias\n",
      "2021-08-03 17:15:44,964 - INFO - allennlp.nn.initializers -    bert_model.encoder.layer.5.attention.self.query.weight\n",
      "2021-08-03 17:15:44,964 - INFO - allennlp.nn.initializers -    bert_model.encoder.layer.5.attention.self.value.bias\n",
      "2021-08-03 17:15:44,965 - INFO - allennlp.nn.initializers -    bert_model.encoder.layer.5.attention.self.value.weight\n",
      "2021-08-03 17:15:44,965 - INFO - allennlp.nn.initializers -    bert_model.encoder.layer.5.intermediate.dense.bias\n",
      "2021-08-03 17:15:44,965 - INFO - allennlp.nn.initializers -    bert_model.encoder.layer.5.intermediate.dense.weight\n",
      "2021-08-03 17:15:44,966 - INFO - allennlp.nn.initializers -    bert_model.encoder.layer.5.output.LayerNorm.bias\n",
      "2021-08-03 17:15:44,966 - INFO - allennlp.nn.initializers -    bert_model.encoder.layer.5.output.LayerNorm.weight\n",
      "2021-08-03 17:15:44,966 - INFO - allennlp.nn.initializers -    bert_model.encoder.layer.5.output.dense.bias\n",
      "2021-08-03 17:15:44,967 - INFO - allennlp.nn.initializers -    bert_model.encoder.layer.5.output.dense.weight\n",
      "2021-08-03 17:15:44,967 - INFO - allennlp.nn.initializers -    bert_model.encoder.layer.6.attention.output.LayerNorm.bias\n",
      "2021-08-03 17:15:44,968 - INFO - allennlp.nn.initializers -    bert_model.encoder.layer.6.attention.output.LayerNorm.weight\n",
      "2021-08-03 17:15:44,968 - INFO - allennlp.nn.initializers -    bert_model.encoder.layer.6.attention.output.dense.bias\n",
      "2021-08-03 17:15:44,968 - INFO - allennlp.nn.initializers -    bert_model.encoder.layer.6.attention.output.dense.weight\n",
      "2021-08-03 17:15:44,969 - INFO - allennlp.nn.initializers -    bert_model.encoder.layer.6.attention.self.key.bias\n",
      "2021-08-03 17:15:44,969 - INFO - allennlp.nn.initializers -    bert_model.encoder.layer.6.attention.self.key.weight\n",
      "2021-08-03 17:15:44,970 - INFO - allennlp.nn.initializers -    bert_model.encoder.layer.6.attention.self.query.bias\n",
      "2021-08-03 17:15:44,970 - INFO - allennlp.nn.initializers -    bert_model.encoder.layer.6.attention.self.query.weight\n",
      "2021-08-03 17:15:44,970 - INFO - allennlp.nn.initializers -    bert_model.encoder.layer.6.attention.self.value.bias\n",
      "2021-08-03 17:15:44,971 - INFO - allennlp.nn.initializers -    bert_model.encoder.layer.6.attention.self.value.weight\n",
      "2021-08-03 17:15:44,971 - INFO - allennlp.nn.initializers -    bert_model.encoder.layer.6.intermediate.dense.bias\n",
      "2021-08-03 17:15:44,972 - INFO - allennlp.nn.initializers -    bert_model.encoder.layer.6.intermediate.dense.weight\n",
      "2021-08-03 17:15:44,972 - INFO - allennlp.nn.initializers -    bert_model.encoder.layer.6.output.LayerNorm.bias\n",
      "2021-08-03 17:15:44,972 - INFO - allennlp.nn.initializers -    bert_model.encoder.layer.6.output.LayerNorm.weight\n",
      "2021-08-03 17:15:44,973 - INFO - allennlp.nn.initializers -    bert_model.encoder.layer.6.output.dense.bias\n",
      "2021-08-03 17:15:44,973 - INFO - allennlp.nn.initializers -    bert_model.encoder.layer.6.output.dense.weight\n",
      "2021-08-03 17:15:44,974 - INFO - allennlp.nn.initializers -    bert_model.encoder.layer.7.attention.output.LayerNorm.bias\n",
      "2021-08-03 17:15:44,975 - INFO - allennlp.nn.initializers -    bert_model.encoder.layer.7.attention.output.LayerNorm.weight\n",
      "2021-08-03 17:15:44,975 - INFO - allennlp.nn.initializers -    bert_model.encoder.layer.7.attention.output.dense.bias\n",
      "2021-08-03 17:15:44,975 - INFO - allennlp.nn.initializers -    bert_model.encoder.layer.7.attention.output.dense.weight\n",
      "2021-08-03 17:15:44,976 - INFO - allennlp.nn.initializers -    bert_model.encoder.layer.7.attention.self.key.bias\n",
      "2021-08-03 17:15:44,977 - INFO - allennlp.nn.initializers -    bert_model.encoder.layer.7.attention.self.key.weight\n",
      "2021-08-03 17:15:44,977 - INFO - allennlp.nn.initializers -    bert_model.encoder.layer.7.attention.self.query.bias\n",
      "2021-08-03 17:15:44,977 - INFO - allennlp.nn.initializers -    bert_model.encoder.layer.7.attention.self.query.weight\n",
      "2021-08-03 17:15:44,978 - INFO - allennlp.nn.initializers -    bert_model.encoder.layer.7.attention.self.value.bias\n",
      "2021-08-03 17:15:44,978 - INFO - allennlp.nn.initializers -    bert_model.encoder.layer.7.attention.self.value.weight\n",
      "2021-08-03 17:15:44,979 - INFO - allennlp.nn.initializers -    bert_model.encoder.layer.7.intermediate.dense.bias\n",
      "2021-08-03 17:15:44,979 - INFO - allennlp.nn.initializers -    bert_model.encoder.layer.7.intermediate.dense.weight\n",
      "2021-08-03 17:15:44,980 - INFO - allennlp.nn.initializers -    bert_model.encoder.layer.7.output.LayerNorm.bias\n",
      "2021-08-03 17:15:44,980 - INFO - allennlp.nn.initializers -    bert_model.encoder.layer.7.output.LayerNorm.weight\n",
      "2021-08-03 17:15:44,981 - INFO - allennlp.nn.initializers -    bert_model.encoder.layer.7.output.dense.bias\n",
      "2021-08-03 17:15:44,981 - INFO - allennlp.nn.initializers -    bert_model.encoder.layer.7.output.dense.weight\n",
      "2021-08-03 17:15:44,981 - INFO - allennlp.nn.initializers -    bert_model.encoder.layer.8.attention.output.LayerNorm.bias\n",
      "2021-08-03 17:15:44,982 - INFO - allennlp.nn.initializers -    bert_model.encoder.layer.8.attention.output.LayerNorm.weight\n",
      "2021-08-03 17:15:44,982 - INFO - allennlp.nn.initializers -    bert_model.encoder.layer.8.attention.output.dense.bias\n",
      "2021-08-03 17:15:44,983 - INFO - allennlp.nn.initializers -    bert_model.encoder.layer.8.attention.output.dense.weight\n",
      "2021-08-03 17:15:44,983 - INFO - allennlp.nn.initializers -    bert_model.encoder.layer.8.attention.self.key.bias\n",
      "2021-08-03 17:15:44,983 - INFO - allennlp.nn.initializers -    bert_model.encoder.layer.8.attention.self.key.weight\n",
      "2021-08-03 17:15:44,984 - INFO - allennlp.nn.initializers -    bert_model.encoder.layer.8.attention.self.query.bias\n",
      "2021-08-03 17:15:44,984 - INFO - allennlp.nn.initializers -    bert_model.encoder.layer.8.attention.self.query.weight\n",
      "2021-08-03 17:15:44,985 - INFO - allennlp.nn.initializers -    bert_model.encoder.layer.8.attention.self.value.bias\n",
      "2021-08-03 17:15:44,985 - INFO - allennlp.nn.initializers -    bert_model.encoder.layer.8.attention.self.value.weight\n",
      "2021-08-03 17:15:44,985 - INFO - allennlp.nn.initializers -    bert_model.encoder.layer.8.intermediate.dense.bias\n",
      "2021-08-03 17:15:44,986 - INFO - allennlp.nn.initializers -    bert_model.encoder.layer.8.intermediate.dense.weight\n",
      "2021-08-03 17:15:44,986 - INFO - allennlp.nn.initializers -    bert_model.encoder.layer.8.output.LayerNorm.bias\n",
      "2021-08-03 17:15:44,986 - INFO - allennlp.nn.initializers -    bert_model.encoder.layer.8.output.LayerNorm.weight\n",
      "2021-08-03 17:15:44,987 - INFO - allennlp.nn.initializers -    bert_model.encoder.layer.8.output.dense.bias\n",
      "2021-08-03 17:15:44,987 - INFO - allennlp.nn.initializers -    bert_model.encoder.layer.8.output.dense.weight\n",
      "2021-08-03 17:15:44,987 - INFO - allennlp.nn.initializers -    bert_model.encoder.layer.9.attention.output.LayerNorm.bias\n",
      "2021-08-03 17:15:44,988 - INFO - allennlp.nn.initializers -    bert_model.encoder.layer.9.attention.output.LayerNorm.weight\n",
      "2021-08-03 17:15:44,988 - INFO - allennlp.nn.initializers -    bert_model.encoder.layer.9.attention.output.dense.bias\n",
      "2021-08-03 17:15:44,988 - INFO - allennlp.nn.initializers -    bert_model.encoder.layer.9.attention.output.dense.weight\n"
     ]
    },
    {
     "name": "stderr",
     "output_type": "stream",
     "text": [
      "2021-08-03 17:15:44,989 - INFO - allennlp.nn.initializers -    bert_model.encoder.layer.9.attention.self.key.bias\n",
      "2021-08-03 17:15:44,989 - INFO - allennlp.nn.initializers -    bert_model.encoder.layer.9.attention.self.key.weight\n",
      "2021-08-03 17:15:44,990 - INFO - allennlp.nn.initializers -    bert_model.encoder.layer.9.attention.self.query.bias\n",
      "2021-08-03 17:15:44,990 - INFO - allennlp.nn.initializers -    bert_model.encoder.layer.9.attention.self.query.weight\n",
      "2021-08-03 17:15:44,990 - INFO - allennlp.nn.initializers -    bert_model.encoder.layer.9.attention.self.value.bias\n",
      "2021-08-03 17:15:44,991 - INFO - allennlp.nn.initializers -    bert_model.encoder.layer.9.attention.self.value.weight\n",
      "2021-08-03 17:15:44,991 - INFO - allennlp.nn.initializers -    bert_model.encoder.layer.9.intermediate.dense.bias\n",
      "2021-08-03 17:15:44,992 - INFO - allennlp.nn.initializers -    bert_model.encoder.layer.9.intermediate.dense.weight\n",
      "2021-08-03 17:15:44,992 - INFO - allennlp.nn.initializers -    bert_model.encoder.layer.9.output.LayerNorm.bias\n",
      "2021-08-03 17:15:44,992 - INFO - allennlp.nn.initializers -    bert_model.encoder.layer.9.output.LayerNorm.weight\n",
      "2021-08-03 17:15:44,993 - INFO - allennlp.nn.initializers -    bert_model.encoder.layer.9.output.dense.bias\n",
      "2021-08-03 17:15:44,993 - INFO - allennlp.nn.initializers -    bert_model.encoder.layer.9.output.dense.weight\n",
      "2021-08-03 17:15:44,994 - INFO - allennlp.nn.initializers -    bert_model.pooler.dense.bias\n",
      "2021-08-03 17:15:44,994 - INFO - allennlp.nn.initializers -    bert_model.pooler.dense.weight\n",
      "2021-08-03 17:15:44,994 - INFO - allennlp.nn.initializers -    tag_projection_layer.bias\n",
      "2021-08-03 17:15:44,995 - INFO - allennlp.nn.initializers -    tag_projection_layer.weight\n",
      "2021-08-03 17:15:45,320 - INFO - allennlp.models.archival - removing temporary unarchived model dir at /var/folders/c_/r637mr6d7y99t490f5yw_trm0000gn/T/tmp8gij92k4\n"
     ]
    },
    {
     "data": {
      "text/plain": [
       "<__main__.SRLComponent at 0x105f0ce20>"
      ]
     },
     "execution_count": 4,
     "metadata": {},
     "output_type": "execute_result"
    }
   ],
   "source": [
    "nlp.add_pipe(\"sentencizer\")\n",
    "nlp.add_pipe(\"srl\")"
   ]
  },
  {
   "cell_type": "code",
   "execution_count": 6,
   "id": "891e43ce",
   "metadata": {
    "ExecuteTime": {
     "end_time": "2021-08-03T21:16:29.642518Z",
     "start_time": "2021-08-03T21:16:29.428294Z"
    }
   },
   "outputs": [
    {
     "name": "stdout",
     "output_type": "stream",
     "text": [
      "{'verbs': [{'verb': 'trashed', 'description': '[ARG0: The dog] [V: trashed] [ARG1: the apartment] [ARGM-TMP: in under 30 seconds] .', 'tags': ['B-ARG0', 'I-ARG0', 'B-V', 'B-ARG1', 'I-ARG1', 'B-ARGM-TMP', 'I-ARGM-TMP', 'I-ARGM-TMP', 'I-ARGM-TMP', 'O']}], 'words': ['The', 'dog', 'trashed', 'the', 'apartment', 'in', 'under', '30', 'seconds', '.']}\n"
     ]
    }
   ],
   "source": [
    "doc = nlp(\"The dog trashed the apartment in under 30 seconds.\")\n",
    "print(doc._.srl)"
   ]
  },
  {
   "cell_type": "markdown",
   "id": "74a28934",
   "metadata": {},
   "source": [
    "## WordNet"
   ]
  },
  {
   "cell_type": "code",
   "execution_count": 1,
   "id": "0be387c1",
   "metadata": {
    "ExecuteTime": {
     "end_time": "2021-08-23T20:29:01.298225Z",
     "start_time": "2021-08-23T20:28:53.348698Z"
    }
   },
   "outputs": [],
   "source": [
    "from nltk.corpus import wordnet as wn"
   ]
  },
  {
   "cell_type": "code",
   "execution_count": 18,
   "id": "3ef3a2bf",
   "metadata": {
    "ExecuteTime": {
     "end_time": "2021-08-23T20:36:42.571265Z",
     "start_time": "2021-08-23T20:36:42.565468Z"
    }
   },
   "outputs": [
    {
     "data": {
      "text/plain": [
       "[Synset('substance.n.01'),\n",
       " Synset('kernel.n.03'),\n",
       " Synset('meaning.n.02'),\n",
       " Synset('substance.n.04'),\n",
       " Synset('means.n.03'),\n",
       " Synset('message.n.02'),\n",
       " Synset('substance.n.07')]"
      ]
     },
     "execution_count": 18,
     "metadata": {},
     "output_type": "execute_result"
    }
   ],
   "source": [
    "wn.synsets('substance')"
   ]
  },
  {
   "cell_type": "code",
   "execution_count": 23,
   "id": "62218ffd",
   "metadata": {
    "ExecuteTime": {
     "end_time": "2021-08-23T20:38:40.648171Z",
     "start_time": "2021-08-23T20:38:40.565452Z"
    }
   },
   "outputs": [
    {
     "data": {
      "text/plain": [
       "[Synset('acknowledgment.n.03'),\n",
       " Synset('approval.n.04'),\n",
       " Synset('body.n.08'),\n",
       " Synset('commitment.n.04'),\n",
       " Synset('corker.n.01'),\n",
       " Synset('digression.n.01'),\n",
       " Synset('direction.n.06'),\n",
       " Synset('disapproval.n.02'),\n",
       " Synset('disrespect.n.01'),\n",
       " Synset('drivel.n.01'),\n",
       " Synset('guidance.n.01'),\n",
       " Synset('information.n.01'),\n",
       " Synset('interpolation.n.01'),\n",
       " Synset('latent_content.n.01'),\n",
       " Synset('meaning.n.01'),\n",
       " Synset('memorial.n.02'),\n",
       " Synset('narrative.n.01'),\n",
       " Synset('nonsense.n.01'),\n",
       " Synset('offer.n.02'),\n",
       " Synset('opinion.n.02'),\n",
       " Synset('promotion.n.01'),\n",
       " Synset('proposal.n.01'),\n",
       " Synset('refusal.n.02'),\n",
       " Synset('reminder.n.01'),\n",
       " Synset('request.n.01'),\n",
       " Synset('respects.n.01'),\n",
       " Synset('sensationalism.n.01'),\n",
       " Synset('shocker.n.02'),\n",
       " Synset('statement.n.01'),\n",
       " Synset('statement.n.04'),\n",
       " Synset('subject.n.01'),\n",
       " Synset('submission.n.01'),\n",
       " Synset('wit.n.01')]"
      ]
     },
     "execution_count": 23,
     "metadata": {},
     "output_type": "execute_result"
    }
   ],
   "source": [
    "entity = wn.synset('message.n.02')\n",
    "entity.hyponyms()"
   ]
  },
  {
   "cell_type": "markdown",
   "id": "68438049",
   "metadata": {},
   "source": [
    "## PyDictionary"
   ]
  },
  {
   "cell_type": "code",
   "execution_count": 4,
   "id": "7de9921f",
   "metadata": {
    "ExecuteTime": {
     "end_time": "2021-09-15T04:31:00.362538Z",
     "start_time": "2021-09-15T04:31:00.040269Z"
    }
   },
   "outputs": [
    {
     "name": "stdout",
     "output_type": "stream",
     "text": [
      "{'Noun': ['a score in baseball made by a runner touching all four bases safely', 'the act of testing something', 'a race run on foot', 'an unbroken series of events', '(American football', 'a regular trip', 'the act of running; traveling on foot at a fast pace', 'the continuous period of time during which something (a machine or a factory', 'unrestricted freedom to use', 'the production achieved during a continuous period of operation (of a machine or factory etc.', 'a small stream', 'a race between candidates for elective office', 'a row of unravelled stitches', 'the pouring forth of a fluid', 'an unbroken chronological sequence', 'a short trip'], 'Verb': [\"move fast by using one's feet, with one foot off the ground at any given time\", \"flee; take to one's heels; cut and run\", 'stretch out over a distance, space, time, or scope; run or extend between two points or beyond a certain point', 'direct or control; projects, businesses, etc.', 'have a particular form', 'move along, of liquids', 'perform as expected when applied', 'change or be different within limits', 'run, stand, or compete for an office or a position', 'cause to emit recorded audio or video', 'move about freely and without restraint, or act as if running around in an uncontrolled way', 'have a tendency or disposition to do or be something; be inclined', 'be operating, running or functioning', 'change from one state to another', 'cause to perform', 'be affected by; be subjected to', 'continue to exist', 'occur persistently', 'carry out a process or program, as on a computer or a machine', 'include as the content; broadcast or publicize', 'carry out', 'pass over, across, or through', 'cause something to pass or lead somewhere', 'make without a miss', 'deal in illegally, such as arms or liquor', 'cause an animal to move fast', 'be diffused', 'sail before the wind', 'cover by running; run a certain distance', 'extend or continue for a certain period of time', 'set animals loose to graze', 'keep company', 'run with the ball; in such sports as football', 'travel rapidly, by any (unspecified', 'travel a route regularly', 'pursue for food or sport (as of wild animals', 'compete in a race', 'progress by being changed', 'reduce or cause to be reduced from a solid to a liquid state, usually by heating', 'come unraveled or undone as if by snagging', 'become undone']}\n"
     ]
    }
   ],
   "source": [
    "from PyDictionary import PyDictionary\n",
    "dictionary=PyDictionary()\n",
    "\n",
    "print (dictionary.meaning(\"run\"))"
   ]
  },
  {
   "cell_type": "code",
   "execution_count": null,
   "id": "3b2c4f2d",
   "metadata": {},
   "outputs": [],
   "source": []
  }
 ],
 "metadata": {
  "kernelspec": {
   "display_name": "Python 3 (ipykernel)",
   "language": "python",
   "name": "python3"
  },
  "language_info": {
   "codemirror_mode": {
    "name": "ipython",
    "version": 3
   },
   "file_extension": ".py",
   "mimetype": "text/x-python",
   "name": "python",
   "nbconvert_exporter": "python",
   "pygments_lexer": "ipython3",
   "version": "3.8.8"
  },
  "varInspector": {
   "cols": {
    "lenName": 16,
    "lenType": 16,
    "lenVar": 40
   },
   "kernels_config": {
    "python": {
     "delete_cmd_postfix": "",
     "delete_cmd_prefix": "del ",
     "library": "var_list.py",
     "varRefreshCmd": "print(var_dic_list())"
    },
    "r": {
     "delete_cmd_postfix": ") ",
     "delete_cmd_prefix": "rm(",
     "library": "var_list.r",
     "varRefreshCmd": "cat(var_dic_list()) "
    }
   },
   "position": {
    "height": "144px",
    "left": "994px",
    "right": "20px",
    "top": "121px",
    "width": "350px"
   },
   "types_to_exclude": [
    "module",
    "function",
    "builtin_function_or_method",
    "instance",
    "_Feature"
   ],
   "window_display": true
  }
 },
 "nbformat": 4,
 "nbformat_minor": 5
}
