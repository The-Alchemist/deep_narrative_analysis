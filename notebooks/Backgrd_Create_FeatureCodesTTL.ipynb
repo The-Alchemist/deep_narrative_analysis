{
 "cells": [
  {
   "cell_type": "markdown",
   "metadata": {},
   "source": [
    "# Create GeoName Feature Codes Ontology File"
   ]
  },
  {
   "cell_type": "markdown",
   "metadata": {},
   "source": [
    "# Description\n",
    "\n",
    "Purpose is to create the geonames-featureCodes.ttl file from the featureCodes_en.txt file, downloaded from http://download.geonames.org/export/dump/. \n",
    "\n",
    "Before processing, the featureCodes_en.txt file was modified to:\n",
    "  * Change all class-dot-code ids to class-underscore-code\n",
    "  * Add super-class definition(s) \n",
    "    * This could be changed to create a default (flat) mapping based only on the feature class, but a greater level of hypernymy was desired\n",
    "  * Remove codes where their semantics were identical to the class  or where the semantics were only plurals of an existing (singular) code \n",
    "    * As an example of the first, P.PPL is equivalent to the feature class, 'P' ('Populated Place') and was removed\n",
    "    * As an example of the second, S.HUTS is the plural of S.HUT and can be expressed in the Narrative ontology as S_HUT + setting the 'plural' predicate to True\n",
    "      * Unfortunately, most locations are not separately labeled as unique singular and plural codes\n",
    "  * Modify descriptions to begin with a capital letter and to be singular\n",
    "    * Where a description was not provided, the label was copied\n",
    "\n",
    "After completion, the geonames-featureCodes.ttl file was split into separate GeoName feature class files (to be more modular), and synonyms were added. The resulting files were moved to the ../Ontologies directory."
   ]
  },
  {
   "cell_type": "code",
   "execution_count": 1,
   "metadata": {},
   "outputs": [],
   "source": [
    "# Load feature codes from the modified GeoNames file, featureCodes_en.txt \n",
    "with open('geonames_featureCodes.ttl', 'w') as ttlFile:\n",
    "    # Write the prefix details\n",
    "    ttlFile.write('@prefix : <urn:ontoinsights:ontology:dna:> . \\n'\\\n",
    "                  '@prefix dna: <urn:ontoinsights:ontology:dna:> . \\n'\\\n",
    "                  '@prefix owl: <http://www.w3.org/2002/07/owl#> . \\n'\\\n",
    "                  '@prefix rdf: <http://www.w3.org/1999/02/22-rdf-syntax-ns#> . \\n'\\\n",
    "                  '@prefix rdfs: <http://www.w3.org/2000/01/rdf-schema#> . \\n'\\\n",
    "                  '@prefix xsd: <http://www.w3.org/2001/XMLSchema#> . \\n\\n')\n",
    "    with open('featureCodes_en.txt', 'r') as featuresFile:\n",
    "        fcodes = featuresFile.read()\n",
    "        \n",
    "    fcodes = fcodes.split('\\n')\n",
    "    for fcode in fcodes:\n",
    "        fc = fcode.split('\\t')  # Tab-separated data\n",
    "        if len(fc) == 4:        # Blank lines were inserted for readability and should be ignored\n",
    "            # Create the Turtle for the feature definitions\n",
    "            ttlLine1 = ':{} a owl:Class ;'.format(fc[0])\n",
    "            ttlLine2 = '  rdfs:subClassOf :{}'.format(fc[3].replace(',', ', :'))\n",
    "            # Some class names may include a ':' already, which should be removed\n",
    "            ttlLine2 = ttlLine2.replace('::', ':')   \n",
    "            ttlLine3 = '  rdfs:label \"{}\"@en ;'.format(fc[1])\n",
    "            ttlLine4 = '  :definition \"{}\"@en .\\n\\n'.format(fc[2])\n",
    "            ttlFile.write('\\n'.join([ttlLine1, ttlLine2, ttlLine3, ttlLine4]))"
   ]
  },
  {
   "cell_type": "code",
   "execution_count": null,
   "metadata": {},
   "outputs": [],
   "source": []
  }
 ],
 "metadata": {
  "kernelspec": {
   "display_name": "Python 3",
   "language": "python",
   "name": "python3"
  },
  "language_info": {
   "codemirror_mode": {
    "name": "ipython",
    "version": 3
   },
   "file_extension": ".py",
   "mimetype": "text/x-python",
   "name": "python",
   "nbconvert_exporter": "python",
   "pygments_lexer": "ipython3",
   "version": "3.7.3"
  },
  "varInspector": {
   "cols": {
    "lenName": 16,
    "lenType": 16,
    "lenVar": 40
   },
   "kernels_config": {
    "python": {
     "delete_cmd_postfix": "",
     "delete_cmd_prefix": "del ",
     "library": "var_list.py",
     "varRefreshCmd": "print(var_dic_list())"
    },
    "r": {
     "delete_cmd_postfix": ") ",
     "delete_cmd_prefix": "rm(",
     "library": "var_list.r",
     "varRefreshCmd": "cat(var_dic_list()) "
    }
   },
   "types_to_exclude": [
    "module",
    "function",
    "builtin_function_or_method",
    "instance",
    "_Feature"
   ],
   "window_display": false
  }
 },
 "nbformat": 4,
 "nbformat_minor": 2
}
