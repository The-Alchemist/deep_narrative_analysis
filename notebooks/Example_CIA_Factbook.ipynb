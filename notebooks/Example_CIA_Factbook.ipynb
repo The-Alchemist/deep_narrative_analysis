{
 "cells": [
  {
   "cell_type": "markdown",
   "id": "44e8ea4d",
   "metadata": {},
   "source": [
    "# Example - CIA Factbook Processing"
   ]
  },
  {
   "cell_type": "code",
   "execution_count": 11,
   "id": "5b805301",
   "metadata": {
    "ExecuteTime": {
     "end_time": "2021-11-04T18:31:01.670767Z",
     "start_time": "2021-11-04T18:31:01.658355Z"
    }
   },
   "outputs": [],
   "source": [
    "import ssl\n",
    "import urllib\n",
    "from bs4 import BeautifulSoup\n",
    "\n",
    "ctx = ssl.create_default_context()\n",
    "ctx.check_hostname = False\n",
    "ctx.verify_mode = ssl.CERT_NONE"
   ]
  },
  {
   "cell_type": "code",
   "execution_count": 57,
   "id": "2f14f5ac",
   "metadata": {
    "ExecuteTime": {
     "end_time": "2021-11-04T21:04:09.093983Z",
     "start_time": "2021-11-04T21:04:08.808182Z"
    }
   },
   "outputs": [
    {
     "name": "stdout",
     "output_type": "stream",
     "text": [
      "HTTP status 200\n",
      "Reading done. Total 359441 characters read.\n",
      "105.2 billion cu m (2017 est.)\n",
      "45.25 billion cu m (2017 est.)\n",
      "1.989 trillion cu m (1 January 2018 est.)\n"
     ]
    }
   ],
   "source": [
    "# Read the HTML from the URL and pass on to BeautifulSoup\n",
    "url = 'https://www.cia.gov/the-world-factbook/countries/australia/'\n",
    "uh= urllib.request.urlopen(url, context=ctx)\n",
    "print(\"HTTP status\",uh.getcode())\n",
    "html =uh.read().decode()\n",
    "print(f\"Reading done. Total {len(html)} characters read.\")\n",
    "\n",
    "soup = BeautifulSoup(html, 'html.parser')\n",
    "\n",
    "for tag in soup.find(id='energy'):\n",
    "    for pop in tag.find_all(\"a\", href=\"/the-world-factbook/field/natural-gas-production\"):\n",
    "        detail = pop.parent.nextSibling\n",
    "        print(detail.get_text())\n",
    "        \n",
    "    for pop in tag.find_all(\"a\", href=\"/the-world-factbook/field/natural-gas-consumption\"):\n",
    "        detail = pop.parent.nextSibling\n",
    "        print(detail.get_text())\n",
    "        \n",
    "    for pop in tag.find_all(\"a\", href=\"/the-world-factbook/field/natural-gas-proved-reserves\"):\n",
    "        detail = pop.parent.nextSibling\n",
    "        print(detail.get_text())"
   ]
  },
  {
   "cell_type": "code",
   "execution_count": null,
   "id": "6b4e430d",
   "metadata": {},
   "outputs": [],
   "source": []
  }
 ],
 "metadata": {
  "kernelspec": {
   "display_name": "Python 3 (ipykernel)",
   "language": "python",
   "name": "python3"
  },
  "language_info": {
   "codemirror_mode": {
    "name": "ipython",
    "version": 3
   },
   "file_extension": ".py",
   "mimetype": "text/x-python",
   "name": "python",
   "nbconvert_exporter": "python",
   "pygments_lexer": "ipython3",
   "version": "3.8.8"
  },
  "varInspector": {
   "cols": {
    "lenName": 16,
    "lenType": 16,
    "lenVar": 40
   },
   "kernels_config": {
    "python": {
     "delete_cmd_postfix": "",
     "delete_cmd_prefix": "del ",
     "library": "var_list.py",
     "varRefreshCmd": "print(var_dic_list())"
    },
    "r": {
     "delete_cmd_postfix": ") ",
     "delete_cmd_prefix": "rm(",
     "library": "var_list.r",
     "varRefreshCmd": "cat(var_dic_list()) "
    }
   },
   "types_to_exclude": [
    "module",
    "function",
    "builtin_function_or_method",
    "instance",
    "_Feature"
   ],
   "window_display": true
  }
 },
 "nbformat": 4,
 "nbformat_minor": 5
}
