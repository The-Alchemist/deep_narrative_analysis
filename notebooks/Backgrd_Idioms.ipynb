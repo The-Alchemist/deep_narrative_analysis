{
 "cells": [
  {
   "cell_type": "markdown",
   "id": "52d4526a",
   "metadata": {},
   "source": [
    "## Initial list of idioms"
   ]
  },
  {
   "cell_type": "code",
   "execution_count": 1,
   "id": "7abab0b0",
   "metadata": {
    "ExecuteTime": {
     "end_time": "2021-10-15T06:02:42.275595Z",
     "start_time": "2021-10-15T06:02:42.258840Z"
    }
   },
   "outputs": [],
   "source": [
    "import pickle\n",
    "verb_dictionary = {\"belong to\": \"'to' (subj & Agent pobj > :Affiliation & :affiliated_agent subj & :affiliated_with pobj) | (default subj & pobj > :Possession & :has_topic subj & :has_agent pobj)\",\n",
    "                   \"charge with\": \"'with' (pobj > :LegalEvent & :has_topic pobj)\",\n",
    "                   \"close\": \"(Organization subj > :DissolutionOfOrganization & :has_topic subj) | (Organization dobj > :DissolutionOfOrganization & :has_topic dobj)\",\n",
    "                   \"cut down\": \"(Plant dobj > :RemovalOfRawMaterials & :has_topic dobj) | (default dobj > :Decrease & :has_topic dobj)\",\n",
    "                   \"fish around\": \":Searching\",\n",
    "                   \"filled with\": \"'with' (dobj & Resource pobj > :InProcessPlacement & :has_topic dobj & :has_instrument pobj)\",\n",
    "                   \"root around\": \":Searching\",\n",
    "                   \"get 'back'\": \"(dobj > :ReturnRecoveryAndRelease & :Possession & :has_topic dobj) | (default > :ReturnRecoveryAndRelease)\", \n",
    "                   \"give 'back'\": \"dobj > :ReturnRecoveryAndRelease & :has_topic dobj\", \n",
    "                   \"take 'back'\": \"(dobj > :ReturnRecoveryAndRelease & :Possession & :has_topic dobj) | (default > :ReturnRecoveryAndRelease)\", \n",
    "                   \"get 'tired of'\": \"pobj > :AngerAndAnnoyance & :has_topic pobj\",\n",
    "                   \"give up\": \":SurrenderAndYielding\",\n",
    "                   \"give into\": \"'into' (pobj > :Agreement & :has_topic pobj)\",\n",
    "                   \"care for\": \"'for' (Agent pobj > :CaringForDependent & :has_affected_agent pobj) | (default pobj > :AttentionAndFocus & :has_topic pobj)\",\n",
    "                   \"care about\": \"'about' (Agent pobj > :CompassionAndEmpathy & :has_affected_agent pobj) | (default pobj > :AttentionAndFocus & :has_topic pobj)\",\n",
    "                   \"carry out\": \"dobj > dobj verb\",\n",
    "                   \"carry on\": \"+xcomp > :Continuation & xcomp verb\",\n",
    "                   \"knock off\": \"(Person dobj > :MurderAndHomicide & :has_affected_agent dobj) | (default dobj > :End & :has_topic dobj)\",\n",
    "                   \"go to\": \"'to' ('battle' pobj > :Battle) | (default pobj > :MovementTravelAndTransportation :has_destination pobj)\",\n",
    "                   \"go on strike\": \"'on' ('strike' pobj > :ProtestAndStrike) | (default pobj > :MovementTravelAndTransportation & :has_instrument pobj)\",\n",
    "                   \"hold in\": \"'in' (Agent dobj & 'esteem' pobj > :AdmirationAndRespect & :has_affected_agent dobj) | (Agent dobj & 'regard' pobj > :AdmirationAndRespect & :has_affected_agent dobj) | (default dobj > :Storage & :has_topic dobj)\",\n",
    "                   \"kick off\": \"(Agent dobj > :Death & :has_affected_agent dobj) | (:StartOrBeginning & dobj > dobj verb)\",\n",
    "                   \"pour out\": \"(EmotionalResponse dobj > verb) | (default dobj > :InProcessPlacement & :has_topic dobj)\",\n",
    "                   \"lay open\": \":Revelation\",\n",
    "                   \"look for\": \"pobj > :Searching & :has_topic pobj\",\n",
    "                   \"marry\": \"(Person dobj > :Marriage & :has_active_agent dobj) | ('to' & 'idea' & pobj > :Acknowledgement & :PositiveEmotion & :has_topic pboj)\",\n",
    "                   \"put on\": \"(Resource dobj > :Grooming)\",\n",
    "                   \"raise\": \"(Agent dobj > :CaringForDependents & :has_affected_agent dobj) | (default > :Increase)\",\n",
    "                   \"reunite with\": \"'with' (Person pobj > :InclusionAttachmentAndUnification & :has_affected_agent pobj) | (default pobj > :Possession & :has_topic pobj)\",\n",
    "                   \"round up\": \":CaptureAndSeizure\",\n",
    "                   \"touch up\": \"dobj > :Repair & :has_topic dobj\",\n",
    "                   \"seek to\": \"+xcomp > :Attempt & xcomp verb\",\n",
    "                   \"stick out\": \"('neck' dobj > :RiskTaking) | (default dobj > :Continuation & :has_topic dobj)\", \n",
    "                   \"strive to\": \"+xcomp > :Attempt & xcomp verb\",\n",
    "                   \"set 'aside'\": \"dobj > :Separation & :has_topic dobj\",\n",
    "                   \"set 'apart'\": \"dobj > :Separation & :has_topic dobj\",\n",
    "                   \"shoot down\": \"(physical dobj > :AttackDamageAndAssault & :has_topic dobj) | (default dobj > :RefusalAndRejection & :has_topic dobj)\",\n",
    "                   \"slip 'away'\": \":EscapeAndEvasion\",\n",
    "                   \"take over\": \"(Agent dobj > :InvasionAndOccupation & :has_affected_agent dobj} | (default dobj > :InvasionAndOccupation & :has_topic dobj)\",\n",
    "                   \"put 'back together'\": \"physical dobj > :Repair & :has_topic dobj\"}\n",
    "noun_override_dictionary = {\"act of God\": \":EnvironmentalOrEcologicalEvent\",\n",
    "                            \"armed conflict\": \":War\",\n",
    "                            \"officer\": \"('army' > :Person & :nounArmyAffiliation & :affiliated_agent noun & :affiliated_with :ArmedForce) | ('police' > :Person & :nounPoliceAffiliation & :affiliated_agent noun & :affiliated_with :PoliceForce)\",\n",
    "                            \"breaking and entering\": \":RobberyAndTheft\",\n",
    "                            \"charges\": \":LegalEvent\",\n",
    "                            \"cold shoulder\": \":RefusalAndRejection\",\n",
    "                            \"false step\": \":Mistake\",\n",
    "                            \"false papers\": \":LegalInstrument\",\n",
    "                            \"identification papers\": \":LegalInstrument\",\n",
    "                            \"fond memories\": \":Nostalgia\",\n",
    "                            \"head in the sand\": \":IgnoringAndOverlooking\",\n",
    "                            \"helping hand\": \":ProvisionOfAid\",\n",
    "                            \"ill will\": \":HatredBitternessAndDisgust\",\n",
    "                            \"smoke screen\": \":Concealment\",\n",
    "                            \"thirst for knowledge\": \":Curiosity\",\n",
    "                            \"legal proceedings\": \":LegalEvent\",\n",
    "                            \"lack of judgment\": \":Mistake\",\n",
    "                            \"out of business\": \":DissolutionOfOrganization\",\n",
    "                            \"personal effects\": \":Resource\",\n",
    "                            \"position\": \":Employment\",\n",
    "                            \"post\": \":Employment\",\n",
    "                            \"peace of mind\": \":RelaxationAndSerenity\",\n",
    "                            \"school\": \":Organization\",\n",
    "                            \"strong-arm tactic\": \":CoercionAndIntimidation\",\n",
    "                            \"surprise attack\": \":Battle\",\n",
    "                            \"mutual assistance\": \":Cooperation\",\n",
    "                            \"word of honor\": \":PromiseAndOath\",\n",
    "                            \"captive\": \"Agent dobj > :CaptureAndSeizure & :has_affected_agent dobj\",\n",
    "                            \"no go\": \"subj > :Impossibility :has_topic subj\",\n",
    "                            \"Zionist\": \"subj > :has_political_ideology :enum:Nationalism & :political ideology 'Zionism'\"}\n",
    "verb_noun_dictionary = {\"end 'marriage'\": \":Divorce\", \n",
    "                        \"give 'birth'\": \":Birth\", \n",
    "                        \"look 'high and low'\": \":Searching\",\n",
    "                        \"look 'the other way'\": \":IgnoringAndOverlooking\",\n",
    "                        \"pay 'no attention'\": \":IgnoringAndOverlooking\", \n",
    "                        \"pay 'no mind'\": \":IgnoringAndOverlooking\", \n",
    "                        \"turn 'blind eye'\": \":IgnoringAndOverlooking\", \n",
    "                        \"get 'hands on'\": \"physical pobj > :Possession & :has_topic pobj\", \n",
    "                        \"get 'hold of'\": \"pobj > :Possession & :has_topic pobj\", \n",
    "                        \"give 'word'\": \":PromiseAndOath\",\n",
    "                        \"give 'way'\": \":SurrenderAndYielding\",\n",
    "                        \"give 'thanks'\": \":ExpressiveAndExclamation\", \n",
    "                        \"offer 'thanks'\": \":ExpressiveAndExclamation\", \n",
    "                        \"kill 'self'\": \":Suicide\",\n",
    "                        \"take 'life'\": \"('own' > :Suicide) | (default > :MurderAndHomicide)\",\n",
    "                        \"reach 'resolution'\": \":Agreement\",\n",
    "                        \"lack 'judgment'\": \":Mistake\", \n",
    "                        \"make 'known'\": \"dobj > :Revelation & :has_topic dobj\",\n",
    "                        \"take 'possession of'\": \"pobj > :Possession & :has_topic pobj\", \n",
    "                        \"take 'responsibility for'\": \"pobj > :Acknowledgment & :has_topic pobj\",\n",
    "                        \"show 'lack of judgment'\": \":Mistake\", \n",
    "                        \"place 'bet'\": \":GamblingAndWagering\", \n",
    "                        \"lay 'bet'\":  \":GamblingAndWagering\", \n",
    "                        \"play 'horses'\": \":GamblingAndWagering\",\n",
    "                        \"make 'mistake'\": \":Mistake\",\n",
    "                        \"make 'decision'\": \":DecisionMaking\",\n",
    "                        \"make 'appeal'\": \":RequestAndAppeal\",\n",
    "                        \"take 'control'\": \":Possession & :Command\",\n",
    "                        \"crack 'joke'\": \":Joke\",\n",
    "                        \"tell 'joke'\": \":Joke\",\n",
    "                        \"set 'fire'\": \":Arson\",\n",
    "                        \"take 'offensive'\": \":AttackDamageAndAssault\",\n",
    "                        \"take 'leap in the dark'\": \":RiskTaking\",\n",
    "                        \"take 'hostage'\": \"Agent dobj > :Abduction & :has_affected_agent dobj\",\n",
    "                        \"take 'trip'\": \":MovementTravelAndTransportation\",\n",
    "                        \"take 'vacation'\": \":MovementTravelAndTransportation\",\n",
    "                        \"keep 'secret'\": \"dobj > :Concealment & :has_topic dobj\",\n",
    "                        \"wage 'war'\": \":War\"}\n",
    "with open('verb-idioms.pickle', 'wb') as outFile:\n",
    "    pickle.dump(verb_dictionary, outFile)\n",
    "with open('noun-idioms.pickle', 'wb') as outFile:\n",
    "    pickle.dump(noun_override_dictionary, outFile)\n",
    "with open('verb-noun-idioms.pickle', 'wb') as outFile:\n",
    "    pickle.dump(verb_noun_dictionary, outFile)"
   ]
  },
  {
   "cell_type": "code",
   "execution_count": null,
   "id": "6d0703c5",
   "metadata": {},
   "outputs": [],
   "source": []
  },
  {
   "cell_type": "code",
   "execution_count": null,
   "id": "a77bc337",
   "metadata": {},
   "outputs": [],
   "source": []
  }
 ],
 "metadata": {
  "kernelspec": {
   "display_name": "Python 3 (ipykernel)",
   "language": "python",
   "name": "python3"
  },
  "language_info": {
   "codemirror_mode": {
    "name": "ipython",
    "version": 3
   },
   "file_extension": ".py",
   "mimetype": "text/x-python",
   "name": "python",
   "nbconvert_exporter": "python",
   "pygments_lexer": "ipython3",
   "version": "3.8.8"
  },
  "varInspector": {
   "cols": {
    "lenName": 16,
    "lenType": 16,
    "lenVar": 40
   },
   "kernels_config": {
    "python": {
     "delete_cmd_postfix": "",
     "delete_cmd_prefix": "del ",
     "library": "var_list.py",
     "varRefreshCmd": "print(var_dic_list())"
    },
    "r": {
     "delete_cmd_postfix": ") ",
     "delete_cmd_prefix": "rm(",
     "library": "var_list.r",
     "varRefreshCmd": "cat(var_dic_list()) "
    }
   },
   "types_to_exclude": [
    "module",
    "function",
    "builtin_function_or_method",
    "instance",
    "_Feature"
   ],
   "window_display": true
  }
 },
 "nbformat": 4,
 "nbformat_minor": 5
}
